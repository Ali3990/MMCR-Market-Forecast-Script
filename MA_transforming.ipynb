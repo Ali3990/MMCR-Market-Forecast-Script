{
 "cells": [
  {
   "cell_type": "code",
   "execution_count": 30,
   "id": "f74d8a8e",
   "metadata": {},
   "outputs": [],
   "source": [
    "import os\n",
    "import openpyxl\n",
    "import pandas as pd\n",
    "import datetime\n",
    "import sys\n",
    "\n",
    "from Moodys_API_script.Moodys_API import download_basket\n",
    "from dotenv import load_dotenv\n",
    "\n",
    "load_dotenv()\n",
    "acckey=str(os.getenv(\"acc_key\"))\n",
    "enckey=str(os.getenv(\"enc_key\"))\n"
   ]
  },
  {
   "cell_type": "code",
   "execution_count": 31,
   "id": "dccadc20",
   "metadata": {},
   "outputs": [
    {
     "ename": "TypeError",
     "evalue": "download_basket() takes 1 positional argument but 5 were given",
     "output_type": "error",
     "traceback": [
      "\u001b[1;31m---------------------------------------------------------------------------\u001b[0m",
      "\u001b[1;31mTypeError\u001b[0m                                 Traceback (most recent call last)",
      "Cell \u001b[1;32mIn[31], line 8\u001b[0m\n\u001b[0;32m      5\u001b[0m target_dir \u001b[38;5;241m=\u001b[39m \u001b[38;5;124mr\u001b[39m\u001b[38;5;124m'\u001b[39m\u001b[38;5;124mC:\u001b[39m\u001b[38;5;124m\\\u001b[39m\u001b[38;5;124mUsers\u001b[39m\u001b[38;5;124m\\\u001b[39m\u001b[38;5;124mALi\u001b[39m\u001b[38;5;124m\\\u001b[39m\u001b[38;5;124mOneDrive - MMC\u001b[39m\u001b[38;5;124m\\\u001b[39m\u001b[38;5;124mDesktop\u001b[39m\u001b[38;5;124m\\\u001b[39m\u001b[38;5;124mMMCR\u001b[39m\u001b[38;5;124m\\\u001b[39m\u001b[38;5;124mApt Forecasts\u001b[39m\u001b[38;5;124m\\\u001b[39m\u001b[38;5;124mForecast process 2025\u001b[39m\u001b[38;5;124m\\\u001b[39m\u001b[38;5;124mData\u001b[39m\u001b[38;5;124m\\\u001b[39m\u001b[38;5;124mMA Forecast Data\u001b[39m\u001b[38;5;124m'\u001b[39m\n\u001b[0;32m      6\u001b[0m filename \u001b[38;5;241m=\u001b[39m BASKET_NAME \u001b[38;5;241m+\u001b[39m \u001b[38;5;124m\"\u001b[39m\u001b[38;5;124m.xlsx\u001b[39m\u001b[38;5;124m\"\u001b[39m\n\u001b[1;32m----> 8\u001b[0m \u001b[43mdownload_basket\u001b[49m\u001b[43m(\u001b[49m\u001b[43mBASKET_NAME\u001b[49m\u001b[43m,\u001b[49m\u001b[43m \u001b[49m\u001b[43mtarget_dir\u001b[49m\u001b[43m,\u001b[49m\u001b[43m \u001b[49m\u001b[43mfilename\u001b[49m\u001b[43m,\u001b[49m\u001b[43m \u001b[49m\u001b[43macckey\u001b[49m\u001b[43m,\u001b[49m\u001b[43m \u001b[49m\u001b[43menckey\u001b[49m\u001b[43m)\u001b[49m\n",
      "\u001b[1;31mTypeError\u001b[0m: download_basket() takes 1 positional argument but 5 were given"
     ]
    }
   ],
   "source": [
    "# The id can be found in the URL of the page of the basket of mnemonics, but basket name also works:\n",
    "BASKET_NAME = \"TM Forecast - Data Buffet\"\n",
    "\n",
    "# provide directory to save the output file:\n",
    "target_dir = r'C:\\Users\\ALi\\OneDrive - MMC\\Desktop\\MMCR\\Apt Forecasts\\Forecast process 2025\\Data\\MA Forecast Data'\n",
    "filename = BASKET_NAME + \".xlsx\"\n",
    "\n",
    "download_basket(BASKET_NAME, target_dir, filename, acckey, enckey)"
   ]
  },
  {
   "cell_type": "code",
   "execution_count": null,
   "id": "d94d70bc",
   "metadata": {},
   "outputs": [],
   "source": []
  }
 ],
 "metadata": {
  "kernelspec": {
   "display_name": "MyDashVenv",
   "language": "python",
   "name": "python3"
  },
  "language_info": {
   "codemirror_mode": {
    "name": "ipython",
    "version": 3
   },
   "file_extension": ".py",
   "mimetype": "text/x-python",
   "name": "python",
   "nbconvert_exporter": "python",
   "pygments_lexer": "ipython3",
   "version": "3.11.1"
  }
 },
 "nbformat": 4,
 "nbformat_minor": 5
}
